{
 "cells": [
  {
   "cell_type": "code",
   "execution_count": 2,
   "metadata": {},
   "outputs": [
    {
     "name": "stdout",
     "output_type": "stream",
     "text": [
      "Collecting ibm_watson\n",
      "  Downloading ibm-watson-5.1.0.tar.gz (382 kB)\n",
      "Requirement already satisfied: requests<3.0,>=2.0 in c:\\programdata\\anaconda3\\lib\\site-packages (from ibm_watson) (2.24.0)\n",
      "Requirement already satisfied: python_dateutil>=2.5.3 in c:\\programdata\\anaconda3\\lib\\site-packages (from ibm_watson) (2.8.1)\n",
      "Collecting websocket-client==0.48.0\n",
      "  Downloading websocket_client-0.48.0-py2.py3-none-any.whl (198 kB)\n",
      "Collecting ibm_cloud_sdk_core>=3.3.6\n",
      "  Downloading ibm-cloud-sdk-core-3.3.6.tar.gz (35 kB)\n",
      "Requirement already satisfied: urllib3!=1.25.0,!=1.25.1,<1.26,>=1.21.1 in c:\\programdata\\anaconda3\\lib\\site-packages (from requests<3.0,>=2.0->ibm_watson) (1.25.11)\n",
      "Requirement already satisfied: chardet<4,>=3.0.2 in c:\\programdata\\anaconda3\\lib\\site-packages (from requests<3.0,>=2.0->ibm_watson) (3.0.4)\n",
      "Requirement already satisfied: idna<3,>=2.5 in c:\\programdata\\anaconda3\\lib\\site-packages (from requests<3.0,>=2.0->ibm_watson) (2.10)\n",
      "Requirement already satisfied: certifi>=2017.4.17 in c:\\programdata\\anaconda3\\lib\\site-packages (from requests<3.0,>=2.0->ibm_watson) (2020.6.20)\n",
      "Requirement already satisfied: six>=1.5 in c:\\programdata\\anaconda3\\lib\\site-packages (from python_dateutil>=2.5.3->ibm_watson) (1.15.0)\n",
      "Collecting PyJWT<3.0.0,>=2.0.0a1\n",
      "  Downloading PyJWT-2.0.0-py3-none-any.whl (15 kB)\n",
      "Building wheels for collected packages: ibm-watson, ibm-cloud-sdk-core\n",
      "  Building wheel for ibm-watson (setup.py): started\n",
      "  Building wheel for ibm-watson (setup.py): finished with status 'done'\n",
      "  Created wheel for ibm-watson: filename=ibm_watson-5.1.0-py3-none-any.whl size=375445 sha256=bca347715d7bacc7782a7ad849da7a50c88097d9f5b7ebdf7107b9db5ca5c451\n",
      "  Stored in directory: c:\\users\\chris\\appdata\\local\\pip\\cache\\wheels\\e6\\e5\\cf\\9e0c46ec51165c2a61af7f2d4fdd91df9c96071bb51264c828\n",
      "  Building wheel for ibm-cloud-sdk-core (setup.py): started\n",
      "  Building wheel for ibm-cloud-sdk-core (setup.py): finished with status 'done'\n",
      "  Created wheel for ibm-cloud-sdk-core: filename=ibm_cloud_sdk_core-3.3.6-py3-none-any.whl size=55788 sha256=c940b5417a57158c1c704cd7ff1a51603cb919a34c895982e2f0ee636e98a220\n",
      "  Stored in directory: c:\\users\\chris\\appdata\\local\\pip\\cache\\wheels\\1c\\c1\\12\\b8ed921556157d9abaa3c233432778ed892c747d4761c5b733\n",
      "Successfully built ibm-watson ibm-cloud-sdk-core\n",
      "Installing collected packages: websocket-client, PyJWT, ibm-cloud-sdk-core, ibm-watson\n",
      "Successfully installed PyJWT-2.0.0 ibm-cloud-sdk-core-3.3.6 ibm-watson-5.1.0 websocket-client-0.48.0\n",
      "Note: you may need to restart the kernel to use updated packages.\n"
     ]
    }
   ],
   "source": [
    "pip install ibm_watson"
   ]
  },
  {
   "cell_type": "code",
   "execution_count": 3,
   "metadata": {},
   "outputs": [
    {
     "name": "stdout",
     "output_type": "stream",
     "text": [
      "Requirement already satisfied: ibm_cloud_sdk_core in c:\\programdata\\anaconda3\\lib\\site-packages (3.3.6)\n",
      "Requirement already satisfied: python-dateutil<3.0.0,>=2.5.3 in c:\\programdata\\anaconda3\\lib\\site-packages (from ibm_cloud_sdk_core) (2.8.1)\n",
      "Requirement already satisfied: requests<3.0,>=2.20 in c:\\programdata\\anaconda3\\lib\\site-packages (from ibm_cloud_sdk_core) (2.24.0)\n",
      "Requirement already satisfied: PyJWT<3.0.0,>=2.0.0a1 in c:\\programdata\\anaconda3\\lib\\site-packages (from ibm_cloud_sdk_core) (2.0.0)\n",
      "Requirement already satisfied: six>=1.5 in c:\\programdata\\anaconda3\\lib\\site-packages (from python-dateutil<3.0.0,>=2.5.3->ibm_cloud_sdk_core) (1.15.0)\n",
      "Requirement already satisfied: idna<3,>=2.5 in c:\\programdata\\anaconda3\\lib\\site-packages (from requests<3.0,>=2.20->ibm_cloud_sdk_core) (2.10)\n",
      "Requirement already satisfied: chardet<4,>=3.0.2 in c:\\programdata\\anaconda3\\lib\\site-packages (from requests<3.0,>=2.20->ibm_cloud_sdk_core) (3.0.4)\n",
      "Requirement already satisfied: certifi>=2017.4.17 in c:\\programdata\\anaconda3\\lib\\site-packages (from requests<3.0,>=2.20->ibm_cloud_sdk_core) (2020.6.20)\n",
      "Requirement already satisfied: urllib3!=1.25.0,!=1.25.1,<1.26,>=1.21.1 in c:\\programdata\\anaconda3\\lib\\site-packages (from requests<3.0,>=2.20->ibm_cloud_sdk_core) (1.25.11)\n",
      "Note: you may need to restart the kernel to use updated packages.\n"
     ]
    }
   ],
   "source": [
    "pip install ibm_cloud_sdk_core"
   ]
  },
  {
   "cell_type": "code",
   "execution_count": null,
   "metadata": {},
   "outputs": [
    {
     "name": "stdout",
     "output_type": "stream",
     "text": [
      "warning: On 1 December 2021, Visual Recognition will no longer be available. For more information, see https://github.com/watson-developer-cloud/python-sdk/tree/master#visual-recognition-deprecation.\n"
     ]
    },
    {
     "name": "stderr",
     "output_type": "stream",
     "text": [
      "127.0.0.1 - - [12/Jan/2021 15:58:24] \"GET /Start HTTP/1.1\" 200 -\n",
      "127.0.0.1 - - [12/Jan/2021 15:58:25] \"GET /Select HTTP/1.1\" 200 -\n",
      "127.0.0.1 - - [12/Jan/2021 15:58:31] \"GET /Select/Apple HTTP/1.1\" 200 -\n",
      "----------------------------------------\n",
      "Exception happened during processing of request from ('127.0.0.1', 59269)\n",
      "Traceback (most recent call last):\n",
      "  File \"C:\\ProgramData\\Anaconda3\\lib\\socketserver.py\", line 316, in _handle_request_noblock\n",
      "    self.process_request(request, client_address)\n",
      "  File \"C:\\ProgramData\\Anaconda3\\lib\\socketserver.py\", line 347, in process_request\n",
      "    self.finish_request(request, client_address)\n",
      "  File \"C:\\ProgramData\\Anaconda3\\lib\\socketserver.py\", line 360, in finish_request\n",
      "    self.RequestHandlerClass(request, client_address, self)\n",
      "  File \"C:\\ProgramData\\Anaconda3\\lib\\socketserver.py\", line 720, in __init__\n",
      "    self.handle()\n",
      "  File \"C:\\ProgramData\\Anaconda3\\lib\\http\\server.py\", line 427, in handle\n",
      "    self.handle_one_request()\n",
      "  File \"C:\\ProgramData\\Anaconda3\\lib\\http\\server.py\", line 415, in handle_one_request\n",
      "    method()\n",
      "  File \"<ipython-input-1-13b0e2d69db2>\", line 31, in do_GET\n",
      "    self.wfile.write(bytes(file_to_open, 'utf-8'))\n",
      "  File \"C:\\ProgramData\\Anaconda3\\lib\\socketserver.py\", line 799, in write\n",
      "    self._sock.sendall(b)\n",
      "ConnectionAbortedError: [WinError 10053] An established connection was aborted by the software in your host machine\n",
      "----------------------------------------\n",
      "127.0.0.1 - - [12/Jan/2021 15:58:31] \"GET /Select/Apple HTTP/1.1\" 200 -\n",
      "127.0.0.1 - - [12/Jan/2021 15:58:35] \"GET /Select/Apple/AppleDetails HTTP/1.1\" 200 -\n",
      "127.0.0.1 - - [12/Jan/2021 15:59:51] \"GET /Start HTTP/1.1\" 200 -\n",
      "127.0.0.1 - - [12/Jan/2021 16:00:00] \"GET /Select HTTP/1.1\" 200 -\n",
      "127.0.0.1 - - [12/Jan/2021 16:00:02] \"GET /Select/Apple HTTP/1.1\" 200 -\n",
      "127.0.0.1 - - [12/Jan/2021 16:01:04] \"GET /Select/Apple HTTP/1.1\" 200 -\n",
      "127.0.0.1 - - [12/Jan/2021 16:02:31] \"GET /Select/SpringRoll HTTP/1.1\" 200 -\n",
      "127.0.0.1 - - [12/Jan/2021 16:05:52] \"GET /Select/SpringRoll/SpringRollDetails HTTP/1.1\" 200 -\n",
      "127.0.0.1 - - [12/Jan/2021 16:06:04] \"GET /Start HTTP/1.1\" 200 -\n",
      "127.0.0.1 - - [12/Jan/2021 16:06:09] \"GET /Select HTTP/1.1\" 200 -\n",
      "127.0.0.1 - - [12/Jan/2021 16:06:17] \"GET /Start HTTP/1.1\" 200 -\n"
     ]
    }
   ],
   "source": [
    "from ibm_watson import VisualRecognitionV3\n",
    "from ibm_cloud_sdk_core.authenticators import IAMAuthenticator\n",
    "from http.server import HTTPServer, BaseHTTPRequestHandler\n",
    "\n",
    "iam = IAMAuthenticator(\"LouFvU5pM5RSys1SDl4t7kIe3tNE0ewnHr9mgKtAGTx2\")\n",
    "vr = VisualRecognitionV3(version=\"2018-03-19\", authenticator=iam)\n",
    "vr.set_service_url(\"https://api.eu-de.visual-recognition.watson.cloud.ibm.com/instances/17b6b956-c049-4700-9729-044a10f65cb9\")\n",
    "#vr.classify(url=\"https://cdn.discordapp.com/attachments/775318108134703128/798523840052723752/loempia_2.jpg\",threshold='0.9',classifier_ids='food').get_result()['images'][0]['classifiers'][0]['classes'][0]['class']\n",
    "\n",
    "class Serv(BaseHTTPRequestHandler):\n",
    "    global vr\n",
    "    def do_GET(self):\n",
    "        if self.path.endswith('/Start'):\n",
    "            self.send_response(200)\n",
    "            self.send_header('content-type', 'text/html')\n",
    "            self.end_headers()\n",
    "            file_to_open = open('HTML/Start.html').read()\n",
    "            self.wfile.write(bytes(file_to_open, 'utf-8'))\n",
    "        if self.path.endswith('/Select'):\n",
    "            self.send_response(200)\n",
    "            self.send_header('content-type', 'text/html')\n",
    "            self.end_headers()\n",
    "            file_to_open = open('HTML/Select.html').read()\n",
    "            self.wfile.write(bytes(file_to_open, 'utf-8'))\n",
    "        if self.path.endswith('/Apple'):\n",
    "            if vr.classify(url=\"https://www.veggipedia.nl/assets/Uploads/Products/790c27918e/Jonagold-appel-fruit-veggipedia.jpg\",threshold='0.9',classifier_ids='food').get_result()['images'][0]['classifiers'][0]['classes'][0]['class'] == 'apple':\n",
    "                self.send_response(200)\n",
    "                self.send_header('content-type', 'text/html')\n",
    "                self.end_headers()\n",
    "                file_to_open = open('HTML/Apple_result1.html').read()\n",
    "                self.wfile.write(bytes(file_to_open, 'utf-8'))\n",
    "        if self.path.endswith('/SpringRoll'):\n",
    "            if vr.classify(url=\"https://cdn.discordapp.com/attachments/775318108134703128/798523840052723752/loempia_2.jpg\",threshold='0.9',classifier_ids='food').get_result()['images'][0]['classifiers'][0]['classes'][0]['class'] == 'egg roll':\n",
    "                self.send_response(200)\n",
    "                self.send_header('content-type', 'text/html')\n",
    "                self.end_headers()\n",
    "                file_to_open = open('HTML/Roll_result1.html').read()\n",
    "                self.wfile.write(bytes(file_to_open, 'utf-8'))\n",
    "        if self.path.endswith('/SpringRollDetails'):\n",
    "            self.send_response(200)\n",
    "            self.send_header('content-type', 'text/html')\n",
    "            self.end_headers()\n",
    "            file_to_open = open('HTML/Roll_result2.html').read()\n",
    "            self.wfile.write(bytes(file_to_open, 'utf-8'))\n",
    "        if self.path.endswith('/AppleDetails'):\n",
    "            self.send_response(200)\n",
    "            self.send_header('content-type', 'text/html')\n",
    "            self.end_headers()\n",
    "            file_to_open = open('HTML/Apple_result2.html').read()\n",
    "            self.wfile.write(bytes(file_to_open, 'utf-8'))\n",
    "        \n",
    "\n",
    "\n",
    "httpd = HTTPServer(('localhost', 8080), Serv)\n",
    "httpd.serve_forever()\n"
   ]
  },
  {
   "cell_type": "code",
   "execution_count": 2,
   "metadata": {},
   "outputs": [
    {
     "name": "stdout",
     "output_type": "stream",
     "text": [
      "warning: On 1 December 2021, Visual Recognition will no longer be available. For more information, see https://github.com/watson-developer-cloud/python-sdk/tree/master#visual-recognition-deprecation.\n"
     ]
    },
    {
     "data": {
      "text/plain": [
       "'egg roll'"
      ]
     },
     "execution_count": 2,
     "metadata": {},
     "output_type": "execute_result"
    }
   ],
   "source": []
  },
  {
   "cell_type": "code",
   "execution_count": null,
   "metadata": {},
   "outputs": [],
   "source": []
  }
 ],
 "metadata": {
  "kernelspec": {
   "display_name": "Python 3",
   "language": "python",
   "name": "python3"
  },
  "language_info": {
   "codemirror_mode": {
    "name": "ipython",
    "version": 3
   },
   "file_extension": ".py",
   "mimetype": "text/x-python",
   "name": "python",
   "nbconvert_exporter": "python",
   "pygments_lexer": "ipython3",
   "version": "3.8.5"
  }
 },
 "nbformat": 4,
 "nbformat_minor": 4
}
